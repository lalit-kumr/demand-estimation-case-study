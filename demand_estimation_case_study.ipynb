{
  "nbformat": 4,
  "nbformat_minor": 0,
  "metadata": {
    "colab": {
      "name": "demand_estimation_case_study.ipynb",
      "provenance": [],
      "authorship_tag": "ABX9TyN0+rsoqumzXwZsZead7ssg",
      "include_colab_link": true
    },
    "kernelspec": {
      "name": "python3",
      "display_name": "Python 3"
    },
    "language_info": {
      "name": "python"
    }
  },
  "cells": [
    {
      "cell_type": "markdown",
      "metadata": {
        "id": "view-in-github",
        "colab_type": "text"
      },
      "source": [
        "<a href=\"https://colab.research.google.com/github/lalit-kumr/demand-estimation-case-study/blob/main/demand_estimation_case_study.ipynb\" target=\"_parent\"><img src=\"https://colab.research.google.com/assets/colab-badge.svg\" alt=\"Open In Colab\"/></a>"
      ]
    },
    {
      "cell_type": "code",
      "metadata": {
        "id": "oXBBYvvNvwk3"
      },
      "source": [
        "import pandas as pd"
      ],
      "execution_count": 1,
      "outputs": []
    },
    {
      "cell_type": "code",
      "metadata": {
        "colab": {
          "base_uri": "https://localhost:8080/",
          "height": 424
        },
        "id": "lTjnYiUZwJVc",
        "outputId": "6de1966d-fae4-4b2f-be91-96ee1c059d7c"
      },
      "source": [
        "pd.read_csv('https://github.com/lalit-kumr/demand-estimation-case-study/raw/main/Electricity%20Consumption.csv')"
      ],
      "execution_count": 3,
      "outputs": [
        {
          "output_type": "execute_result",
          "data": {
            "text/html": [
              "<div>\n",
              "<style scoped>\n",
              "    .dataframe tbody tr th:only-of-type {\n",
              "        vertical-align: middle;\n",
              "    }\n",
              "\n",
              "    .dataframe tbody tr th {\n",
              "        vertical-align: top;\n",
              "    }\n",
              "\n",
              "    .dataframe thead th {\n",
              "        text-align: right;\n",
              "    }\n",
              "</style>\n",
              "<table border=\"1\" class=\"dataframe\">\n",
              "  <thead>\n",
              "    <tr style=\"text-align: right;\">\n",
              "      <th></th>\n",
              "      <th>DATE</th>\n",
              "      <th>Electricty_Consumption_in_TW</th>\n",
              "    </tr>\n",
              "  </thead>\n",
              "  <tbody>\n",
              "    <tr>\n",
              "      <th>0</th>\n",
              "      <td>1/1/1973</td>\n",
              "      <td>35.9728</td>\n",
              "    </tr>\n",
              "    <tr>\n",
              "      <th>1</th>\n",
              "      <td>2/1/1973</td>\n",
              "      <td>36.1334</td>\n",
              "    </tr>\n",
              "    <tr>\n",
              "      <th>2</th>\n",
              "      <td>3/1/1973</td>\n",
              "      <td>35.0625</td>\n",
              "    </tr>\n",
              "    <tr>\n",
              "      <th>3</th>\n",
              "      <td>4/1/1973</td>\n",
              "      <td>33.8416</td>\n",
              "    </tr>\n",
              "    <tr>\n",
              "      <th>4</th>\n",
              "      <td>5/1/1973</td>\n",
              "      <td>33.5107</td>\n",
              "    </tr>\n",
              "    <tr>\n",
              "      <th>...</th>\n",
              "      <td>...</td>\n",
              "      <td>...</td>\n",
              "    </tr>\n",
              "    <tr>\n",
              "      <th>556</th>\n",
              "      <td>5/1/2019</td>\n",
              "      <td>97.5860</td>\n",
              "    </tr>\n",
              "    <tr>\n",
              "      <th>557</th>\n",
              "      <td>6/1/2019</td>\n",
              "      <td>110.8580</td>\n",
              "    </tr>\n",
              "    <tr>\n",
              "      <th>558</th>\n",
              "      <td>7/1/2019</td>\n",
              "      <td>122.1014</td>\n",
              "    </tr>\n",
              "    <tr>\n",
              "      <th>559</th>\n",
              "      <td>8/1/2019</td>\n",
              "      <td>121.7765</td>\n",
              "    </tr>\n",
              "    <tr>\n",
              "      <th>560</th>\n",
              "      <td>9/1/2019</td>\n",
              "      <td>109.7190</td>\n",
              "    </tr>\n",
              "  </tbody>\n",
              "</table>\n",
              "<p>561 rows × 2 columns</p>\n",
              "</div>"
            ],
            "text/plain": [
              "         DATE  Electricty_Consumption_in_TW\n",
              "0    1/1/1973                       35.9728\n",
              "1    2/1/1973                       36.1334\n",
              "2    3/1/1973                       35.0625\n",
              "3    4/1/1973                       33.8416\n",
              "4    5/1/1973                       33.5107\n",
              "..        ...                           ...\n",
              "556  5/1/2019                       97.5860\n",
              "557  6/1/2019                      110.8580\n",
              "558  7/1/2019                      122.1014\n",
              "559  8/1/2019                      121.7765\n",
              "560  9/1/2019                      109.7190\n",
              "\n",
              "[561 rows x 2 columns]"
            ]
          },
          "metadata": {},
          "execution_count": 3
        }
      ]
    },
    {
      "cell_type": "code",
      "metadata": {
        "id": "KYPZGNM7wOcf"
      },
      "source": [
        ""
      ],
      "execution_count": null,
      "outputs": []
    }
  ]
}